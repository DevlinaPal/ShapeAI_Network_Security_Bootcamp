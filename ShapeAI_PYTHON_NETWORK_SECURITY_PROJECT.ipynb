{
  "nbformat": 4,
  "nbformat_minor": 0,
  "metadata": {
    "colab": {
      "name": "ShapeAI_PYTHON_NETWORK_SECURITY_PROJECT.ipynb",
      "provenance": [],
      "collapsed_sections": []
    },
    "kernelspec": {
      "name": "python3",
      "display_name": "Python 3"
    },
    "language_info": {
      "name": "python"
    }
  },
  "cells": [
    {
      "cell_type": "markdown",
      "metadata": {
        "id": "HhU2o8Y4Gj7L"
      },
      "source": [
        "Write a program in Python to generate hashes of string data using 3 algorithms from hashlib"
      ]
    },
    {
      "cell_type": "code",
      "metadata": {
        "id": "GmB_7phcDeBr"
      },
      "source": [
        "import hashlib\n",
        "\n",
        "message = \"Text to hash\".encode()\n"
      ],
      "execution_count": 22,
      "outputs": []
    },
    {
      "cell_type": "markdown",
      "metadata": {
        "id": "kDLu38niEBFp"
      },
      "source": [
        "Now, I am going to use different hash algorithms on this message string from hashlib"
      ]
    },
    {
      "cell_type": "markdown",
      "metadata": {
        "id": "N7N0ZK5BEVoe"
      },
      "source": [
        "1. HASH WITH SHA-2 ( SHA-256 & SHA-512)"
      ]
    },
    {
      "cell_type": "code",
      "metadata": {
        "colab": {
          "base_uri": "https://localhost:8080/"
        },
        "id": "orBALenhEdkT",
        "outputId": "c45cffe3-96d9-48e7-c3bc-e0f372d5de9f"
      },
      "source": [
        "print(\"SHA-256:\", hashlib.sha256(message).hexdigest())\n",
        "\n",
        "print(\"SHA-512:\", hashlib.sha512(message).hexdigest())"
      ],
      "execution_count": 21,
      "outputs": [
        {
          "output_type": "stream",
          "text": [
            "SHA-256: 9b33596cd1c91e7fd6244fcb26b1690cbab2b0ad7ed8572a4b6bc034d21896db\n",
            "SHA-512: 82b72902d931590b52645bee724cf124f14a350c77ab2e069d82bb2a419547f66b00d48f978f31d7c70104e71401c207f12dde8de6ff66c7fcc007c96af402ad\n"
          ],
          "name": "stdout"
        }
      ]
    },
    {
      "cell_type": "markdown",
      "metadata": {
        "id": "V1o_Mz3mEyHN"
      },
      "source": [
        "2. HASH WITH SHA- 3 (SHA-3-256 & SHA-3-512)"
      ]
    },
    {
      "cell_type": "code",
      "metadata": {
        "colab": {
          "base_uri": "https://localhost:8080/"
        },
        "id": "MP3htbkUE9dm",
        "outputId": "06265f7f-d55e-4671-9447-6ea3e3630a6e"
      },
      "source": [
        "print(\"SHA-3-256:\", hashlib.sha3_256(message).hexdigest())\n",
        "\n",
        "print(\"SHA-3-512:\", hashlib.sha3_512(message).hexdigest())"
      ],
      "execution_count": 19,
      "outputs": [
        {
          "output_type": "stream",
          "text": [
            "SHA-3-256: 8760a737285f3e4054fde5d8b6dc5bff298d4274915fe2cbe17579162742c2b3\n",
            "SHA-3-512: 7175e4835845a7c725dfd70100ae60e1f7b1a9b17125d4bd0ef9db7ac6d35f79aac0d73febf90bdc340398c6b2061f5ce71352bb7928900831e999f4a21a6a1a\n"
          ],
          "name": "stdout"
        }
      ]
    },
    {
      "cell_type": "markdown",
      "metadata": {
        "id": "XurobYdIFI8u"
      },
      "source": [
        "3. HASH WITH BLAKE2 ( 256-bit BLAKE2 & 512-bit BLAKE2)"
      ]
    },
    {
      "cell_type": "code",
      "metadata": {
        "colab": {
          "base_uri": "https://localhost:8080/"
        },
        "id": "DRR94W7eFXqf",
        "outputId": "bed56b23-44e1-45bb-a149-a24733568d29"
      },
      "source": [
        "print(\"BLAKE2c:\", hashlib.blake2s(message).hexdigest())\n",
        "\n",
        "print(\"BLAKE2b:\", hashlib.blake2b(message).hexdigest())"
      ],
      "execution_count": 17,
      "outputs": [
        {
          "output_type": "stream",
          "text": [
            "BLAKE2c: 93f670bfb884d7ebc287fc1e32b33eccdb77fcb41eaf763063bc273f6e023f3b\n",
            "BLAKE2b: b3983dc348f83164241d3d3bdd13aed08b311e690cf6ff401f39633f6c9dbed8ae20a2409e1c15008a2fb28587ddc85ed944a293914f79147c009523934a8784\n"
          ],
          "name": "stdout"
        }
      ]
    }
  ]
}